{
 "cells": [
  {
   "cell_type": "markdown",
   "metadata": {},
   "source": [
    "#### 주제 (1)  \n",
    "숫자끼리 비교하는 연산과 문자끼리 비교하는 연산 중  \n",
    "왜 문자끼리 비교하는 연산이 상대적으로 불리한지 이유에 대해서 정리해보고  \n",
    "샘플 코드를 구현해서 제출하기"
   ]
  },
  {
   "cell_type": "markdown",
   "metadata": {},
   "source": [
    "```\n",
    "이유:  \n",
    "숫자 비교 연산은 바로 비트로 변환되어 계산하지만  \n",
    "문자열 비교 연산은 각 문자들이 먼저 유니코드로 변환된 다음 계산하기 때문에  \n",
    "비교 연산 작업이 좀 더 오래 걸림.\n",
    "```"
   ]
  },
  {
   "cell_type": "code",
   "execution_count": 13,
   "metadata": {},
   "outputs": [
    {
     "name": "stdout",
     "output_type": "stream",
     "text": [
      "Numeric comparison time: 0.4800890999999865\n",
      "String comparison time: 0.540301999999997\n"
     ]
    }
   ],
   "source": [
    "import timeit\n",
    "\n",
    "# 두 숫자를 백만번 비교하는 함수\n",
    "def compare_numeric():\n",
    "    for i in range(1000000):\n",
    "        num1 = 12345\n",
    "        num2 = 56789\n",
    "        result = num1 < num2 # (이 비교하는 수식 계산을 for문으로 백만번 함)\n",
    "\n",
    "# 두 문자열을 백만번 비교하는 함수\n",
    "def compare_string():\n",
    "    for i in range(1000000):\n",
    "        str1 = \"apple\"\n",
    "        str2 = \"banana\"\n",
    "        result = str1 < str2\n",
    "\n",
    "# 숫자 비교 연산 시간 측정\n",
    "numeric_time = timeit.timeit(compare_numeric, number=10) # (compare_numeric 함수를 10번 실행한 후 평균 실행 시간을 계산하여 반환)\n",
    "print(\"Numeric comparison time:\", numeric_time)\n",
    "\n",
    "# 문자열 비교 연산 시간 측정\n",
    "string_time = timeit.timeit(compare_string, number=10)\n",
    "print(\"String comparison time:\", string_time)\n"
   ]
  },
  {
   "cell_type": "markdown",
   "metadata": {},
   "source": [
    "#### 주제 (2)\n",
    "\n",
    "파이썬으로 일부 중복되는 element를 저장하고 최소 element가 10개이상 되는 배열을 만든 후  \n",
    "set() 구문 없이 오로지 for in 문으로 배열의 중복된 값을 없애는 코드를 작성하기\n"
   ]
  },
  {
   "cell_type": "code",
   "execution_count": 14,
   "metadata": {},
   "outputs": [
    {
     "name": "stdout",
     "output_type": "stream",
     "text": [
      "['사과', '오렌지', '체리', '파인애플', '포도', '딸기']\n"
     ]
    }
   ],
   "source": [
    "fruits = ['사과', '오렌지', '체리', '파인애플', '포도', '사과', '사과', '파인애플', '오렌지', '딸기']\n",
    "\n",
    "clean_fruits = []\n",
    "for fruit in fruits:\n",
    "    if fruit not in clean_fruits:\n",
    "        clean_fruits.append(fruit)\n",
    "\n",
    "print(clean_fruits)"
   ]
  }
 ],
 "metadata": {
  "kernelspec": {
   "display_name": "Python 3",
   "language": "python",
   "name": "python3"
  },
  "language_info": {
   "codemirror_mode": {
    "name": "ipython",
    "version": 3
   },
   "file_extension": ".py",
   "mimetype": "text/x-python",
   "name": "python",
   "nbconvert_exporter": "python",
   "pygments_lexer": "ipython3",
   "version": "3.7.9"
  },
  "orig_nbformat": 4
 },
 "nbformat": 4,
 "nbformat_minor": 2
}
